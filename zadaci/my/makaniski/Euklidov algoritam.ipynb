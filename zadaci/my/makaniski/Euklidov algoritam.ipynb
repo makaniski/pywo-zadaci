{
 "cells": [
  {
   "cell_type": "code",
   "execution_count": 84,
   "metadata": {
    "collapsed": false
   },
   "outputs": [],
   "source": [
    "def euklid(f,g):\n",
    "    \"\"\"Daje svaki korak Euklidovog algoritma kod odredjivanja\n",
    "    najvece zajednicke mjere brojeva f i g. U svakom koraku\n",
    "    funkcija daje kvocijent i ostatak koji se dobiju dijeljenjem \n",
    "    odgovarajucih brojeva.\n",
    "    \"\"\"\n",
    "    tablica=[['korak','kvocijent','ostatak']]\n",
    "    korak=1\n",
    "    q,r=f,g\n",
    "    while r!=0:\n",
    "        tablica.append([str(korak)+'.',q//r,q%r])\n",
    "        q,r=r,q%r\n",
    "        korak += 1\n",
    "    return tablica"
   ]
  },
  {
   "cell_type": "code",
   "execution_count": 85,
   "metadata": {
    "collapsed": false
   },
   "outputs": [
    {
     "data": {
      "text/plain": [
       "[['korak', 'kvocijent', 'ostatak'],\n",
       " ['1.', 0, 3102],\n",
       " ['2.', 1, 900],\n",
       " ['3.', 3, 402],\n",
       " ['4.', 2, 96],\n",
       " ['5.', 4, 18],\n",
       " ['6.', 5, 6],\n",
       " ['7.', 3, 0]]"
      ]
     },
     "execution_count": 85,
     "metadata": {},
     "output_type": "execute_result"
    }
   ],
   "source": [
    " euklid(3102,4002)"
   ]
  }
 ],
 "metadata": {
  "kernelspec": {
   "display_name": "Python 3",
   "language": "python",
   "name": "python3"
  },
  "language_info": {
   "codemirror_mode": {
    "name": "ipython",
    "version": 3
   },
   "file_extension": ".py",
   "mimetype": "text/x-python",
   "name": "python",
   "nbconvert_exporter": "python",
   "pygments_lexer": "ipython3",
   "version": "3.4.0"
  }
 },
 "nbformat": 4,
 "nbformat_minor": 0
}
